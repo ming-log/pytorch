{
 "cells": [
  {
   "cell_type": "code",
   "execution_count": 2,
   "metadata": {},
   "outputs": [],
   "source": [
    "import torch\n",
    "import torch.nn as nn\n",
    "import torch.nn.functional as F\n",
    "from torchvision import datasets, transforms\n",
    "import torchsummary\n",
    "from torch.utils.data import DataLoader\n",
    "import math"
   ]
  },
  {
   "cell_type": "markdown",
   "metadata": {},
   "source": [
    "# 定义模型类"
   ]
  },
  {
   "cell_type": "code",
   "execution_count": 3,
   "metadata": {},
   "outputs": [],
   "source": [
    "class Net(nn.Module):\n",
    "    def __init__(self):\n",
    "        super(Net, self).__init__()\n",
    "        self.conv1 = nn.Conv2d(1, 32, 3, 1, padding=True)\n",
    "        self.pool = nn.MaxPool2d(2)\n",
    "        self.conv2 = nn.Conv2d(32, 64, 3, 1, padding=True)\n",
    "        self.dropout = nn.Dropout2d(0.5)\n",
    "        self.fc1 = nn.Linear(3136, 128)\n",
    "        self.fc2 = nn.Linear(128, 10)\n",
    "        \n",
    "    # 重写forward方法\n",
    "    def forward(self, x):\n",
    "        x = self.conv1(x)  # 卷积\n",
    "        x = self.pool(x)  # 池化\n",
    "        x = F.relu(x)  # relu函数激活\n",
    "        x = self.conv2(x)  # 卷积\n",
    "        x = self.pool(x)  # 池化\n",
    "        x = F.relu(x)  # relu函数激活\n",
    "        x = self.dropout(x)  # dropout层\n",
    "        x = torch.flatten(x, 1)  # 展平\n",
    "        x = self.fc1(x)  # 全连接\n",
    "        x = F.relu(x)  # relu函数激活\n",
    "        x = self.dropout(x)  # dropout层\n",
    "        x = self.fc2(x)  # relu函数激活\n",
    "        output = F.log_softmax(x, dim=1)  # 计算log_softmax值\n",
    "        return output"
   ]
  },
  {
   "cell_type": "code",
   "execution_count": 4,
   "metadata": {},
   "outputs": [],
   "source": [
    "model = Net()"
   ]
  },
  {
   "cell_type": "code",
   "execution_count": 5,
   "metadata": {},
   "outputs": [
    {
     "name": "stdout",
     "output_type": "stream",
     "text": [
      "----------------------------------------------------------------\n",
      "        Layer (type)               Output Shape         Param #\n",
      "================================================================\n",
      "            Conv2d-1           [-1, 32, 28, 28]             320\n",
      "         MaxPool2d-2           [-1, 32, 14, 14]               0\n",
      "            Conv2d-3           [-1, 64, 14, 14]          18,496\n",
      "         MaxPool2d-4             [-1, 64, 7, 7]               0\n",
      "         Dropout2d-5             [-1, 64, 7, 7]               0\n",
      "            Linear-6                  [-1, 128]         401,536\n",
      "         Dropout2d-7                  [-1, 128]               0\n",
      "            Linear-8                   [-1, 10]           1,290\n",
      "================================================================\n",
      "Total params: 421,642\n",
      "Trainable params: 421,642\n",
      "Non-trainable params: 0\n",
      "----------------------------------------------------------------\n",
      "Input size (MB): 0.00\n",
      "Forward/backward pass size (MB): 0.38\n",
      "Params size (MB): 1.61\n",
      "Estimated Total Size (MB): 2.00\n",
      "----------------------------------------------------------------\n"
     ]
    }
   ],
   "source": [
    "# 查看模型结构\n",
    "torchsummary.summary(model.to('cuda'), (1,28,28))"
   ]
  },
  {
   "cell_type": "markdown",
   "metadata": {},
   "source": [
    "# 定义训练函数"
   ]
  },
  {
   "cell_type": "code",
   "execution_count": 6,
   "metadata": {},
   "outputs": [],
   "source": [
    "# model：模型    device：模型训练场所     optimizer：优化器    epoch：模型训练轮次\n",
    "def train(model, device, train_loader, optimizer, epoch):\n",
    "    model.train()  # 声明训练函数，参数的梯度要更新\n",
    "    total = 0  # 记录已经训练的数据个数\n",
    "    for batch_idx, (data, target) in enumerate(train_loader):\n",
    "        data, target = data.to(device), target.to(device)\n",
    "        optimizer.zero_grad()\n",
    "        output = model(data)\n",
    "        loss = F.nll_loss(output, target)\n",
    "        loss.backward()\n",
    "        optimizer.step()\n",
    "        \n",
    "        total += len(data)\n",
    "        progress = math.ceil(batch_idx / len(train_loader) * 50)\n",
    "        print(\"\\rTrain epoch %d: %d/%d, [%-51s] %d%%\" %\n",
    "              (epoch, total, len(train_loader.dataset),\n",
    "               '-' * progress + '>', progress * 2), end='')"
   ]
  },
  {
   "cell_type": "code",
   "execution_count": 7,
   "metadata": {},
   "outputs": [
    {
     "name": "stdout",
     "output_type": "stream",
     "text": [
      "\r",
      "[---------->                                        ]"
     ]
    }
   ],
   "source": [
    "# python标准化输出 %-51s, 51表示至少输出51个字符，-表示左对齐，显示后面的内容，不够的位置用空格补全\n",
    "progress = 10\n",
    "print(\"\\r[%-51s]\" % ('-' * progress + '>'), end='')"
   ]
  },
  {
   "cell_type": "markdown",
   "metadata": {},
   "source": [
    "# 定义测试函数"
   ]
  },
  {
   "cell_type": "code",
   "execution_count": 10,
   "metadata": {},
   "outputs": [],
   "source": [
    "def test(model, device, test_loader):\n",
    "    model.eval()  # 声明验证函数，禁止所有梯度进行更新\n",
    "    test_loss = 0\n",
    "    correct = 0\n",
    "    # 强制后面的计算不生成计算图，加快测试效率\n",
    "    with torch.no_grad():\n",
    "        for data, target in test_loader:\n",
    "            data, target = data.to(device), target.to(device)\n",
    "            output = model(data)\n",
    "            test_loss += F.nll_loss(output, target, reduction='sum').item()  # 对每个batch的loss进行求和\n",
    "            pred = output.argmax(dim=1, keepdim=True)\n",
    "            correct += pred.eq(target.view_as(pred)).sum().item()\n",
    "    test_loss /= len(test_loader.dataset)\n",
    "    \n",
    "    print('\\nTest: average loss: {:.4f}, accuracy: {}/{} ({:.0f}%)'.format(\n",
    "        test_loss, correct, len(test_loader.dataset),\n",
    "        100. * correct / len(test_loader.dataset)))       "
   ]
  },
  {
   "cell_type": "markdown",
   "metadata": {},
   "source": [
    "# 定义主函数"
   ]
  },
  {
   "cell_type": "code",
   "execution_count": 11,
   "metadata": {},
   "outputs": [],
   "source": [
    "def main():\n",
    "    epochs = 2\n",
    "    batch_size = 64\n",
    "    torch.manual_seed(2021)\n",
    "    \n",
    "    # 查看GPU是否可用，如果可用就用GPU否则用CPU\n",
    "    device = torch.device('cuda' if torch.cuda.is_available() else 'cpu') \n",
    "    \n",
    "    # 训练集的定义\n",
    "    train_loader = DataLoader(\n",
    "                            datasets.MNIST('Efficient-Neural-Network-Bilibili-master/data/MNIST', \n",
    "                                           train=True,\n",
    "                                           download=False,\n",
    "                                           transform=transforms.Compose([\n",
    "                                                                       transforms.ToTensor(),\n",
    "                                                                       transforms.Normalize((0.1307,),(0.3081,))\n",
    "                                           ])),\n",
    "                            batch_size=1000,\n",
    "                            shuffle=True\n",
    "                            )\n",
    "    # 测试集的定义\n",
    "    test_loader = DataLoader(\n",
    "                            datasets.MNIST('Efficient-Neural-Network-Bilibili-master/data/MNIST', \n",
    "                                           train=False,\n",
    "                                           download=False,\n",
    "                                           transform=transforms.Compose([\n",
    "                                                                       transforms.ToTensor(),\n",
    "                                                                       transforms.Normalize((0.1307,),(0.3081,))\n",
    "                                           ])),\n",
    "                            batch_size=1000,\n",
    "                            shuffle=True\n",
    "                            )\n",
    "    # 模型定义并加载至GPU\n",
    "    model = Net().to(device)\n",
    "    # 随机梯度下降\n",
    "    optimizer = torch.optim.SGD(model.parameters(), lr=0.025, momentum=0.9)\n",
    "    \n",
    "    for epoch in range(1, epochs+1):\n",
    "        train(model, device, train_loader, optimizer, epoch)\n",
    "        test(model, device, test_loader)"
   ]
  },
  {
   "cell_type": "code",
   "execution_count": 13,
   "metadata": {},
   "outputs": [
    {
     "name": "stdout",
     "output_type": "stream",
     "text": [
      "Train epoch 1: 60000/60000, [-------------------------------------------------->] 100%\n",
      "Test: average loss: 0.1979, accuracy: 9381/10000 (94%)\n",
      "Train epoch 2: 60000/60000, [-------------------------------------------------->] 100%\n",
      "Test: average loss: 0.1088, accuracy: 9652/10000 (97%)\n"
     ]
    }
   ],
   "source": [
    "main()"
   ]
  }
 ],
 "metadata": {
  "kernelspec": {
   "display_name": "Python 3 (ipykernel)",
   "language": "python",
   "name": "python3"
  },
  "language_info": {
   "codemirror_mode": {
    "name": "ipython",
    "version": 3
   },
   "file_extension": ".py",
   "mimetype": "text/x-python",
   "name": "python",
   "nbconvert_exporter": "python",
   "pygments_lexer": "ipython3",
   "version": "3.8.11"
  },
  "toc": {
   "base_numbering": 1,
   "nav_menu": {},
   "number_sections": true,
   "sideBar": true,
   "skip_h1_title": false,
   "title_cell": "Table of Contents",
   "title_sidebar": "Contents",
   "toc_cell": false,
   "toc_position": {},
   "toc_section_display": true,
   "toc_window_display": false
  },
  "varInspector": {
   "cols": {
    "lenName": 16,
    "lenType": 16,
    "lenVar": 40
   },
   "kernels_config": {
    "python": {
     "delete_cmd_postfix": "",
     "delete_cmd_prefix": "del ",
     "library": "var_list.py",
     "varRefreshCmd": "print(var_dic_list())"
    },
    "r": {
     "delete_cmd_postfix": ") ",
     "delete_cmd_prefix": "rm(",
     "library": "var_list.r",
     "varRefreshCmd": "cat(var_dic_list()) "
    }
   },
   "types_to_exclude": [
    "module",
    "function",
    "builtin_function_or_method",
    "instance",
    "_Feature"
   ],
   "window_display": false
  }
 },
 "nbformat": 4,
 "nbformat_minor": 4
}
