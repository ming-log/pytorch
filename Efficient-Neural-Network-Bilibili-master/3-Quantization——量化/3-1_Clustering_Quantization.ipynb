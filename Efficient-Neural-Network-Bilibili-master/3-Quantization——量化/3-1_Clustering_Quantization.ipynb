{
 "cells": [
  {
   "cell_type": "code",
   "execution_count": 29,
   "metadata": {},
   "outputs": [],
   "source": [
    "import torch\n",
    "import torch.nn as nn\n",
    "import torch.nn.functional as F\n",
    "from torchvision import datasets, transforms\n",
    "import torch.utils.data\n",
    "import numpy as np\n",
    "from sklearn.cluster import KMeans\n",
    "import math\n",
    "from copy import deepcopy"
   ]
  },
  {
   "cell_type": "code",
   "execution_count": 30,
   "metadata": {},
   "outputs": [],
   "source": [
    "def k_means_cpu(weight, n_clusters, init='k-means++', max_iter=50):\n",
    "    # flatten the weight for computing k-means\n",
    "    org_shape = weight.shape\n",
    "    weight = weight.reshape(-1, 1)  # single feature\n",
    "    if n_clusters > weight.size:\n",
    "        n_clusters = weight.size\n",
    "\n",
    "    k_means = KMeans(n_clusters=n_clusters, init=init, n_init=1, max_iter=max_iter)\n",
    "    k_means.fit(weight)\n",
    "\n",
    "    centroids = k_means.cluster_centers_\n",
    "    labels = k_means.labels_\n",
    "    labels = labels.reshape(org_shape)\n",
    "    return torch.from_numpy(centroids).cuda().view(1, -1), torch.from_numpy(labels).int().cuda()\n",
    "\n",
    "\n",
    "def reconstruct_weight_from_k_means_result(centroids, labels):\n",
    "    weight = torch.zeros_like(labels).float().cuda()\n",
    "    for i, c in enumerate(centroids.cpu().numpy().squeeze()):\n",
    "        weight[labels == i] = c.item()\n",
    "    return weight\n",
    "\n",
    "\n",
    "class QuantLinear(nn.Linear):\n",
    "    def __init__(self, in_features, out_features, bias=True):\n",
    "        super(QuantLinear, self).__init__(in_features, out_features, bias)\n",
    "        self.weight_labels = None\n",
    "        self.bias_labels = None\n",
    "        self.num_cent = None\n",
    "        self.quant_flag = False\n",
    "        self.quant_bias = False\n",
    "        \n",
    "    def kmeans_quant(self, bias=False, quantize_bit=4):\n",
    "        self.num_cent = 2 ** quantize_bit\n",
    "        \n",
    "        w = self.weight.data\n",
    "        centroids, self.weight_labels = k_means_cpu(w.cpu().numpy(), self.num_cent)\n",
    "        w_q = reconstruct_weight_from_k_means_result(centroids, self.weight_labels)\n",
    "        self.weight.data = w_q.float()\n",
    "        \n",
    "        if bias:\n",
    "            b = self.bias.data\n",
    "            centroids, self.bias_labels = k_means_cpu(b.cpu().numpy(), self.num_cent)\n",
    "            b_q = reconstruct_weight_from_k_means_result(centroids, self.bias_labels)\n",
    "            self.bias.data = b_q.float()\n",
    "        \n",
    "        self.quant_flag = True\n",
    "        self.quant_bias = bias\n",
    "    \n",
    "    def kmeans_update(self):\n",
    "        if not self.quant_flag:\n",
    "            return\n",
    "        \n",
    "        new_weight_data = torch.zeros_like(self.weight_labels).float().cuda()\n",
    "        for i in range(self.num_cent):\n",
    "            mask_cl = (self.weight_labels == i).float()\n",
    "            new_weight_data += (self.weight.data * mask_cl).sum() / mask_cl.sum() * mask_cl\n",
    "        self.weight.data = new_weight_data\n",
    "        \n",
    "        if self.quant_bias:\n",
    "            new_bias_data = torch.zeros_like(self.bias_labels).float().cuda()\n",
    "            for i in range(self.num_cent):\n",
    "                mask_cl = (self.bias_labels == i).float()\n",
    "                new_bias_data += (self.bias.data * mask_cl).sum() / mask_cl.sum() * mask_cl\n",
    "            self.bias.data = new_bias_data\n",
    "\n",
    "            \n",
    "class QuantConv2d(nn.Conv2d):\n",
    "    def __init__(self, in_channels, out_channels, kernel_size, stride=1,\n",
    "                 padding=0, dilation=1, groups=1, bias=True):\n",
    "        super(QuantConv2d, self).__init__(in_channels, out_channels, \n",
    "            kernel_size, stride, padding, dilation, groups, bias)\n",
    "        self.weight_labels = None\n",
    "        self.bias_labels = None\n",
    "        self.num_cent = None\n",
    "        self.quant_flag = False\n",
    "        self.quant_bias = False\n",
    "        \n",
    "    def kmeans_quant(self, bias=False, quantize_bit=4):\n",
    "        self.num_cent = 2 ** quantize_bit\n",
    "        \n",
    "        w = self.weight.data\n",
    "        centroids, self.weight_labels = k_means_cpu(w.cpu().numpy(), self.num_cent)\n",
    "        w_q = reconstruct_weight_from_k_means_result(centroids, self.weight_labels)\n",
    "        self.weight.data = w_q.float()\n",
    "        \n",
    "        if bias:\n",
    "            b = self.bias.data\n",
    "            centroids, self.bias_labels = k_means_cpu(b.cpu().numpy(), self.num_cent)\n",
    "            b_q = reconstruct_weight_from_k_means_result(centroids, self.bias_labels)\n",
    "            self.bias.data = b_q.float()\n",
    "        \n",
    "        self.quant_flag = True\n",
    "        self.quant_bias = bias\n",
    "    \n",
    "    def kmeans_update(self):\n",
    "        if not self.quant_flag:\n",
    "            return\n",
    "        \n",
    "        new_weight_data = torch.zeros_like(self.weight_labels).float().cuda()\n",
    "        for i in range(self.num_cent):\n",
    "            mask_cl = (self.weight_labels == i).float()\n",
    "            new_weight_data += (self.weight.data * mask_cl).sum() / mask_cl.sum() * mask_cl\n",
    "        self.weight.data = new_weight_data\n",
    "        \n",
    "        if self.quant_bias:\n",
    "            new_bias_data = torch.zeros_like(self.bias_labels).float().cuda()\n",
    "            for i in range(self.num_cent):\n",
    "                mask_cl = (self.bias_labels == i).float()\n",
    "                new_bias_data += (self.bias.data * mask_cl).sum() / mask_cl.sum() * mask_cl\n",
    "            self.bias.data = new_bias_data\n"
   ]
  },
  {
   "cell_type": "code",
   "execution_count": 31,
   "metadata": {},
   "outputs": [],
   "source": [
    "class ConvNet(nn.Module):\n",
    "    def __init__(self):\n",
    "        super(ConvNet, self).__init__()\n",
    "\n",
    "        self.conv1 = QuantConv2d(1, 32, kernel_size=3, padding=1, stride=1)\n",
    "        self.relu1 = nn.ReLU(inplace=True)\n",
    "        self.maxpool1 = nn.MaxPool2d(2)\n",
    "\n",
    "        self.conv2 = QuantConv2d(32, 64, kernel_size=3, padding=1, stride=1)\n",
    "        self.relu2 = nn.ReLU(inplace=True)\n",
    "        self.maxpool2 = nn.MaxPool2d(2)\n",
    "\n",
    "        self.conv3 = QuantConv2d(64, 64, kernel_size=3, padding=1, stride=1)\n",
    "        self.relu3 = nn.ReLU(inplace=True)\n",
    "\n",
    "        self.linear1 = QuantLinear(7*7*64, 10)\n",
    "        \n",
    "    def forward(self, x):\n",
    "        out = self.maxpool1(self.relu1(self.conv1(x)))\n",
    "        out = self.maxpool2(self.relu2(self.conv2(out)))\n",
    "        out = self.relu3(self.conv3(out))\n",
    "        out = out.view(out.size(0), -1)\n",
    "        out = self.linear1(out)\n",
    "        return out\n",
    "\n",
    "    def kmeans_quant(self, bias=False, quantize_bit=4):\n",
    "        # Should be a less manual way to quantize\n",
    "        # Leave it for the future\n",
    "        self.conv1.kmeans_quant(bias, quantize_bit)\n",
    "        self.conv2.kmeans_quant(bias, quantize_bit)\n",
    "        self.conv3.kmeans_quant(bias, quantize_bit)\n",
    "        self.linear1.kmeans_quant(bias, quantize_bit)\n",
    "    \n",
    "    def kmeans_update(self):\n",
    "        self.conv1.kmeans_update()\n",
    "        self.conv2.kmeans_update()\n",
    "        self.conv3.kmeans_update()\n",
    "        self.linear1.kmeans_update()"
   ]
  },
  {
   "cell_type": "code",
   "execution_count": 32,
   "metadata": {},
   "outputs": [],
   "source": [
    "def train(model, device, train_loader, optimizer, epoch):\n",
    "    model.train()\n",
    "    total = 0\n",
    "    for batch_idx, (data, target) in enumerate(train_loader):\n",
    "        data, target = data.to(device), target.to(device)\n",
    "        optimizer.zero_grad()\n",
    "        output = model(data)\n",
    "        loss = F.cross_entropy(output, target)\n",
    "        loss.backward()\n",
    "        optimizer.step()\n",
    "        total += len(data)\n",
    "        progress = math.ceil(batch_idx / len(train_loader) * 50)\n",
    "        print(\"\\rTrain epoch %d: %d/%d, [%-51s] %d%%\" %\n",
    "              (epoch, total, len(train_loader.dataset),\n",
    "               '-' * progress + '>', progress * 2), end='')"
   ]
  },
  {
   "cell_type": "code",
   "execution_count": 33,
   "metadata": {},
   "outputs": [],
   "source": [
    "def test(model, device, test_loader):\n",
    "    model.eval()\n",
    "    test_loss = 0\n",
    "    correct = 0\n",
    "    with torch.no_grad():\n",
    "        for data, target in test_loader:\n",
    "            data, target = data.to(device), target.to(device)\n",
    "            output = model(data)\n",
    "            test_loss += F.cross_entropy(output, target, reduction='sum').item()  # sum up batch loss\n",
    "            pred = output.argmax(dim=1, keepdim=True)  # get the index of the max log-probability\n",
    "            correct += pred.eq(target.view_as(pred)).sum().item()\n",
    "\n",
    "    test_loss /= len(test_loader.dataset)\n",
    "\n",
    "    print('\\nTest: average loss: {:.4f}, accuracy: {}/{} ({:.0f}%)'.format(\n",
    "        test_loss, correct, len(test_loader.dataset),\n",
    "        100. * correct / len(test_loader.dataset)))\n",
    "    return test_loss, correct / len(test_loader.dataset)"
   ]
  },
  {
   "cell_type": "code",
   "execution_count": 36,
   "metadata": {},
   "outputs": [],
   "source": [
    "def main():\n",
    "    epochs = 2\n",
    "    batch_size = 64\n",
    "    torch.manual_seed(0)\n",
    "\n",
    "    device = torch.device(\"cuda\" if torch.cuda.is_available() else \"cpu\")\n",
    "\n",
    "    train_loader = torch.utils.data.DataLoader(\n",
    "        datasets.MNIST('../data/MNIST', train=True, download=False,\n",
    "                       transform=transforms.Compose([\n",
    "                           transforms.ToTensor(),\n",
    "                           transforms.Normalize((0.1307,), (0.3081,))\n",
    "                       ])),\n",
    "        batch_size=batch_size, shuffle=True)\n",
    "    test_loader = torch.utils.data.DataLoader(\n",
    "        datasets.MNIST('../data/MNIST', train=False, download=False, transform=transforms.Compose([\n",
    "            transforms.ToTensor(),\n",
    "            transforms.Normalize((0.1307,), (0.3081,))\n",
    "        ])),\n",
    "        batch_size=1000, shuffle=True)\n",
    "\n",
    "    model = ConvNet().to(device)\n",
    "    optimizer = torch.optim.Adadelta(model.parameters())\n",
    "    \n",
    "    for epoch in range(1, epochs + 1):\n",
    "        train(model, device, train_loader, optimizer, epoch)\n",
    "        _, acc = test(model, device, test_loader)\n",
    "    \n",
    "    quant_model = deepcopy(model)\n",
    "    print('=='*10)\n",
    "    print('2 bits quantization')\n",
    "    quant_model.kmeans_quant(bias=False, quantize_bit=2)\n",
    "    _, acc = test(quant_model, device, test_loader)\n",
    "        \n",
    "    return model, quant_model"
   ]
  },
  {
   "cell_type": "code",
   "execution_count": 37,
   "metadata": {},
   "outputs": [
    {
     "name": "stdout",
     "output_type": "stream",
     "text": [
      "Train epoch 1: 60000/60000, [-------------------------------------------------->] 100%\n",
      "Test: average loss: 0.0503, accuracy: 9827/10000 (98%)\n",
      "Train epoch 2: 60000/60000, [-------------------------------------------------->] 100%\n",
      "Test: average loss: 0.0262, accuracy: 9913/10000 (99%)\n",
      "====================\n",
      "2 bits quantization\n",
      "\n",
      "Test: average loss: 0.0609, accuracy: 9889/10000 (99%)\n"
     ]
    }
   ],
   "source": [
    "model, quant_model = main()"
   ]
  },
  {
   "cell_type": "markdown",
   "metadata": {},
   "source": [
    "## 可视化"
   ]
  },
  {
   "cell_type": "code",
   "execution_count": 38,
   "metadata": {},
   "outputs": [],
   "source": [
    "from matplotlib import pyplot as plt"
   ]
  },
  {
   "cell_type": "code",
   "execution_count": 39,
   "metadata": {},
   "outputs": [],
   "source": [
    "def plot_weights(model):\n",
    "    modules = [module for module in model.modules()]\n",
    "    num_sub_plot = 0\n",
    "    for i, layer in enumerate(modules):\n",
    "        if hasattr(layer, 'weight'):\n",
    "            plt.subplot(221+num_sub_plot)\n",
    "            w = layer.weight.data\n",
    "            w_one_dim = w.cpu().numpy().flatten()\n",
    "            plt.hist(w_one_dim, bins=50)\n",
    "            num_sub_plot += 1\n",
    "    plt.show()\n"
   ]
  },
  {
   "cell_type": "code",
   "execution_count": 40,
   "metadata": {},
   "outputs": [
    {
     "data": {
      "image/png": "[encoded data removed]",
      "text/plain": [
       "<Figure size 432x288 with 4 Axes>"
      ]
     },
     "metadata": {
      "needs_background": "light"
     },
     "output_type": "display_data"
    }
   ],
   "source": [
    "plot_weights(model)"
   ]
  },
  {
   "cell_type": "code",
   "execution_count": 41,
   "metadata": {},
   "outputs": [
    {
     "data": {
      "image/png": "[encoded data removed]",
      "text/plain": [
       "<Figure size 432x288 with 4 Axes>"
      ]
     },
     "metadata": {
      "needs_background": "light"
     },
     "output_type": "display_data"
    }
   ],
   "source": [
    "plot_weights(quant_model)"
   ]
  },
  {
   "cell_type": "code",
   "execution_count": null,
   "metadata": {},
   "outputs": [],
   "source": []
  }
 ],
 "metadata": {
  "kernelspec": {
   "display_name": "Python 3",
   "language": "python",
   "name": "python3"
  },
  "language_info": {
   "codemirror_mode": {
    "name": "ipython",
    "version": 3
   },
   "file_extension": ".py",
   "mimetype": "text/x-python",
   "name": "python",
   "nbconvert_exporter": "python",
   "pygments_lexer": "ipython3",
   "version": "3.8.6"
  },
  "toc": {
   "base_numbering": 1,
   "nav_menu": {},
   "number_sections": true,
   "sideBar": true,
   "skip_h1_title": false,
   "title_cell": "Table of Contents",
   "title_sidebar": "Contents",
   "toc_cell": false,
   "toc_position": {},
   "toc_section_display": true,
   "toc_window_display": false
  }
 },
 "nbformat": 4,
 "nbformat_minor": 2
}
